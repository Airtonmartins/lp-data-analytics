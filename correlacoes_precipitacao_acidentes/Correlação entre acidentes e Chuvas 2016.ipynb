{
 "cells": [
  {
   "cell_type": "code",
   "execution_count": 1,
   "metadata": {},
   "outputs": [],
   "source": [
    "%matplotlib inline\n",
    "import pandas as pd\n",
    "import numpy as np\n",
    "from datetime import datetime\n",
    "import os\n",
    "import unidecode\n",
    "from scipy import stats"
   ]
  },
  {
   "cell_type": "code",
   "execution_count": 2,
   "metadata": {},
   "outputs": [],
   "source": [
    "#Funções para tratamento de registro com espaços desnecessário\n",
    "def funcLimparEspacos(df,col):\n",
    "    palavras = df[col]\n",
    "    palavras = palavras.strip() \n",
    "    return palavras\n",
    "\n",
    "\n",
    "def removerAcentuacaoCidade(df,col):\n",
    "    cidade = unidecode.unidecode(df[col])\n",
    "    return cidade"
   ]
  },
  {
   "cell_type": "code",
   "execution_count": 3,
   "metadata": {},
   "outputs": [],
   "source": [
    "#Lendo arquivo CSV com registro dos acidentes no ano de 2016\n",
    "dataset_2016 = pd.read_csv('csv/datatran2016.csv',encoding='ISO-8859-1',sep=\";\")"
   ]
  },
  {
   "cell_type": "code",
   "execution_count": 4,
   "metadata": {},
   "outputs": [],
   "source": [
    "#Padronizando o dataframe com os dados relevantes para analise\n",
    "dataset_2016 = dataset_2016.drop(dataset_2016.columns[[0,3,5,6,9,10,11,12,14,15,16,19,20,21,22,24]], axis=1)"
   ]
  },
  {
   "cell_type": "code",
   "execution_count": 5,
   "metadata": {},
   "outputs": [],
   "source": [
    "#Filtrando os acidentes ocorridos no Estado de PE\n",
    "dataset_2016 = dataset_2016[(dataset_2016.uf == \"PE\")]"
   ]
  },
  {
   "cell_type": "code",
   "execution_count": 6,
   "metadata": {},
   "outputs": [],
   "source": [
    "#Padronizando o formato de data\n",
    "dataset_2016.data_inversa=pd.to_datetime(dataset_2016.data_inversa).dt.strftime('%Y-%m-%d')\n",
    "dataset_2016.rename(columns={'data_inversa':'Date'}, inplace=True)"
   ]
  },
  {
   "cell_type": "code",
   "execution_count": 7,
   "metadata": {},
   "outputs": [],
   "source": [
    "#----Tratamento na Base - Limpeza no excesso de espaços nos resgistros de municipio e causa_acidente ----\n",
    "dataset_2016['municipio'] = dataset_2016.apply(funcLimparEspacos,col = 3, axis=1)\n",
    "dataset_2016['causa_acidente'] = dataset_2016.apply(funcLimparEspacos,col = 4, axis=1)"
   ]
  },
  {
   "cell_type": "code",
   "execution_count": 8,
   "metadata": {},
   "outputs": [],
   "source": [
    "#Separacao da data\n",
    "dataset_2016['year'] = pd.DatetimeIndex(dataset_2016['Date']).year\n",
    "dataset_2016['month'] = pd.DatetimeIndex(dataset_2016['Date']).month\n",
    "dataset_2016['day'] = pd.DatetimeIndex(dataset_2016['Date']).day\n",
    "\n",
    "#Contador unitario para cada acidente\n",
    "dataset_2016['acidente'] = 1"
   ]
  },
  {
   "cell_type": "code",
   "execution_count": 9,
   "metadata": {},
   "outputs": [],
   "source": [
    "#Lendo arquivo CSV com registro de precipitação em PE\n",
    "dataset_Precipitacao = pd.read_csv('csv/result_monthly_precipitation_sum.csv')"
   ]
  },
  {
   "cell_type": "code",
   "execution_count": 10,
   "metadata": {},
   "outputs": [],
   "source": [
    "#Filtrando o Municipio de RECIFE do Dataframe de acidentes\n",
    "dataset_2016_Recife = dataset_2016[(dataset_2016.municipio == \"RECIFE\")]"
   ]
  },
  {
   "cell_type": "code",
   "execution_count": 11,
   "metadata": {},
   "outputs": [
    {
     "name": "stderr",
     "output_type": "stream",
     "text": [
      "c:\\users\\carlos\\appdata\\local\\programs\\python\\python36-32\\lib\\site-packages\\pandas\\core\\frame.py:3027: SettingWithCopyWarning: \n",
      "A value is trying to be set on a copy of a slice from a DataFrame\n",
      "\n",
      "See the caveats in the documentation: http://pandas.pydata.org/pandas-docs/stable/indexing.html#indexing-view-versus-copy\n",
      "  return super(DataFrame, self).rename(**kwargs)\n"
     ]
    }
   ],
   "source": [
    "#Filtrando ano de 2016 da Base de Precipitação e o Municipio de Recife\n",
    "dataset_Precipitacao_2016 = dataset_Precipitacao[(dataset_Precipitacao.year == 2016)]\n",
    "dataset_Precipitacao_2016_Recife = dataset_Precipitacao_2016[(dataset_Precipitacao_2016.Estacao == \"RECIFE\")]\n",
    "dataset_Precipitacao_2016_Recife.rename(columns={'Estacao':'municipio'}, inplace=True)"
   ]
  },
  {
   "cell_type": "code",
   "execution_count": 15,
   "metadata": {},
   "outputs": [],
   "source": [
    "#Filtrando os acidentes causados por Ingestão de Álcool\n",
    "dataset_2016_Recife_Acidentes_alcool = dataset_2016_Recife[(dataset_2016_Recife.causa_acidente == \"Ingestão de álcool\")]\n",
    "\n",
    "#Aplicando somatorio mensal dos acidentes causados por Ingestão de Álcool\n",
    "dataset_2016_Recife_Acidentes_alcool_somados = pd.DataFrame({'soma_acidentes_mes' : dataset_2016_Recife_Acidentes_alcool.groupby([\"municipio\", \"month\"])[\"acidente\"].sum()}).reset_index()\n",
    "df_precipitacao_x_Acidentes_alcool_somados = pd.merge(dataset_Precipitacao_2016_Recife, dataset_2016_Recife_Acidentes_alcool_somados, on = ('municipio','month'))"
   ]
  },
  {
   "cell_type": "code",
   "execution_count": 16,
   "metadata": {},
   "outputs": [
    {
     "data": {
      "text/plain": [
       "-0.07824607964359516"
      ]
     },
     "execution_count": 16,
     "metadata": {},
     "output_type": "execute_result"
    }
   ],
   "source": [
    "#Coeficiente de Correlação Spearman \n",
    "df_precipitacao_x_Acidentes_alcool_somados['Precipitacao'].corr(df_precipitacao_x_Acidentes_alcool_somados['soma_acidentes_mes'], method='spearman')"
   ]
  },
  {
   "cell_type": "code",
   "execution_count": 18,
   "metadata": {},
   "outputs": [],
   "source": [
    "#Filtrando os acidentes causados pela falta de atenção do condutor\n",
    "dataset_2016_Recife_Acidentes_condutor_desatento = dataset_2016_Recife[(dataset_2016_Recife.causa_acidente == \"Falta de atenção\")]\n",
    "\n",
    "#Aplicando somatorio mensal dos acidentes causados pela falta de atenção do condutor\n",
    "dataset_2016_Recife_Acidentes_condutor_desatento_somados = pd.DataFrame({'soma_acidentes_mes' : dataset_2016_Recife_Acidentes_condutor_desatento.groupby([\"municipio\", \"month\"])[\"acidente\"].sum()}).reset_index()\n",
    "dataset_2016_Recife_Acidentes_condutor_desatento_somados = pd.merge(dataset_Precipitacao_2016_Recife, dataset_2016_Recife_Acidentes_condutor_desatento_somados, on = ('municipio','month'))"
   ]
  },
  {
   "cell_type": "code",
   "execution_count": 19,
   "metadata": {},
   "outputs": [
    {
     "data": {
      "text/plain": [
       "-0.03873335483621993"
      ]
     },
     "execution_count": 19,
     "metadata": {},
     "output_type": "execute_result"
    }
   ],
   "source": [
    "#Coeficiente de Correlação Spearman \n",
    "dataset_2016_Recife_Acidentes_condutor_desatento_somados['Precipitacao'].corr(dataset_2016_Recife_Acidentes_condutor_desatento_somados['soma_acidentes_mes'], method='spearman')"
   ]
  },
  {
   "cell_type": "code",
   "execution_count": 21,
   "metadata": {},
   "outputs": [],
   "source": [
    "#Filtrando os acidentes causados pela falta de distancia de segura entre os veiculos\n",
    "dataset_2016_Recife_Acidentes_condutor_distancia = dataset_2016_Recife[(dataset_2016_Recife.causa_acidente == \"Não guardar distância de segurança\")]\n",
    "\n",
    "#Aplicando somatorio mensal dos acidentes causados pela falta de distancia de segura entre os veiculos\n",
    "dataset_2016_Recife_Acidentes_condutor_distancia_somados = pd.DataFrame({'soma_acidentes_mes' : dataset_2016_Recife_Acidentes_condutor_distancia.groupby([\"municipio\", \"month\"])[\"acidente\"].sum()}).reset_index()\n",
    "dataset_2016_Recife_Acidentes_condutor_distancia_somados = pd.merge(dataset_Precipitacao_2016_Recife, dataset_2016_Recife_Acidentes_condutor_distancia_somados, on = ('municipio','month'))\n"
   ]
  },
  {
   "cell_type": "code",
   "execution_count": 22,
   "metadata": {},
   "outputs": [
    {
     "data": {
      "text/plain": [
       "-0.2619670089686946"
      ]
     },
     "execution_count": 22,
     "metadata": {},
     "output_type": "execute_result"
    }
   ],
   "source": [
    "#Coeficiente de Correlação Spearman \n",
    "dataset_2016_Recife_Acidentes_condutor_distancia_somados['Precipitacao'].corr(dataset_2016_Recife_Acidentes_condutor_distancia_somados['soma_acidentes_mes'], method='spearman')"
   ]
  },
  {
   "cell_type": "code",
   "execution_count": 24,
   "metadata": {},
   "outputs": [],
   "source": [
    "#Filtrando os acidentes causados por defeitos na via\n",
    "dataset_2016_Recife_Acidentes_defeito_via = dataset_2016_Recife[(dataset_2016_Recife.causa_acidente == \"Defeito na via\")]\n",
    "\n",
    "#Aplicando somatorio mensal dos acidentes causados por defeitos na via\n",
    "dataset_2016_Recife_Acidentes_defeito_via_somados = pd.DataFrame({'soma_acidentes_mes' : dataset_2016_Recife_Acidentes_defeito_via.groupby([\"municipio\", \"month\"])[\"acidente\"].sum()}).reset_index()\n",
    "dataset_2016_Recife_Acidentes_defeito_via_somados = pd.merge(dataset_Precipitacao_2016_Recife, dataset_2016_Recife_Acidentes_defeito_via_somados, on = ('municipio','month'))"
   ]
  },
  {
   "cell_type": "code",
   "execution_count": 25,
   "metadata": {},
   "outputs": [
    {
     "data": {
      "text/plain": [
       "0.13762047064079508"
      ]
     },
     "execution_count": 25,
     "metadata": {},
     "output_type": "execute_result"
    }
   ],
   "source": [
    "#Coeficiente de Correlação Spearman \n",
    "dataset_2016_Recife_Acidentes_defeito_via_somados['Precipitacao'].corr(dataset_2016_Recife_Acidentes_defeito_via_somados['soma_acidentes_mes'], method='spearman')"
   ]
  },
  {
   "cell_type": "code",
   "execution_count": 27,
   "metadata": {},
   "outputs": [],
   "source": [
    "#Filtrando os acidentes causados por animais na via\n",
    "dataset_2016_Recife_Acidentes_animais_pista = dataset_2016_Recife[(dataset_2016_Recife.causa_acidente == \"Animais na Pista\")]\n",
    "\n",
    "#Aplicando somatorio mensal dos acidentes causados por defeitos na via\n",
    "dataset_2016_Recife_Acidentes_animais_pista_somados = pd.DataFrame({'soma_acidentes_mes' : dataset_2016_Recife_Acidentes_animais_pista.groupby([\"municipio\", \"month\"])[\"acidente\"].sum()}).reset_index()\n",
    "dataset_2016_Recife_Acidentes_animais_pista_somados = pd.merge(dataset_Precipitacao_2016_Recife, dataset_2016_Recife_Acidentes_animais_pista_somados, on = ('municipio','month'))"
   ]
  },
  {
   "cell_type": "code",
   "execution_count": 28,
   "metadata": {},
   "outputs": [
    {
     "data": {
      "text/plain": [
       "-0.50709255283711"
      ]
     },
     "execution_count": 28,
     "metadata": {},
     "output_type": "execute_result"
    }
   ],
   "source": [
    "#Coeficiente de Correlação Spearman \n",
    "dataset_2016_Recife_Acidentes_animais_pista_somados['Precipitacao'].corr(dataset_2016_Recife_Acidentes_animais_pista_somados['soma_acidentes_mes'], method='spearman')"
   ]
  }
 ],
 "metadata": {
  "kernelspec": {
   "display_name": "Python 3",
   "language": "python",
   "name": "python3"
  },
  "language_info": {
   "codemirror_mode": {
    "name": "ipython",
    "version": 3
   },
   "file_extension": ".py",
   "mimetype": "text/x-python",
   "name": "python",
   "nbconvert_exporter": "python",
   "pygments_lexer": "ipython3",
   "version": "3.6.4"
  }
 },
 "nbformat": 4,
 "nbformat_minor": 2
}
