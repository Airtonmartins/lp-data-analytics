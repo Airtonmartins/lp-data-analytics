{
 "cells": [
  {
   "cell_type": "code",
   "execution_count": 1,
   "metadata": {
    "collapsed": false
   },
   "outputs": [
   ],
   "source": [
    "import pandas as pd\n",
    "from matplotlib import pyplot as plt"
   ]
  },
  {
   "cell_type": "code",
   "execution_count": 2,
   "metadata": {
    "collapsed": false
   },
   "outputs": [
   ],
   "source": [
    "#Lendo o arquivo csv de casos de dengue\n",
    "df_dengue = pd.read_csv('datasus/all_dengue.csv', sep=';')"
   ]
  },
  {
   "cell_type": "code",
   "execution_count": 3,
   "metadata": {
    "collapsed": false
   },
   "outputs": [
   ],
   "source": [
    "#CASOS DE DENGUE DE TODOS OS MUNICIPIOS POR MES DE 2010 a 2012\n",
    "dengue_mes_ano = pd.DataFrame({'CASOS' : df_dengue.groupby([\"MUNICIPIO\",\"ANO\",\"MES\"])[\"CASOS\"].sum()}).reset_index()"
   ]
  },
  {
   "cell_type": "code",
   "execution_count": 4,
   "metadata": {
    "collapsed": false
   },
   "outputs": [
   ],
   "source": [
    "#CASOS DE DENGUE DE TODOS OS MUNICIPIOS POR ANO DE 2010 a 2012\n",
    "dengue_ano = pd.DataFrame({'CASOS' : df_dengue.groupby([\"MUNICIPIO\",\"ANO\"])[\"CASOS\"].sum()}).reset_index()"
   ]
  },
  {
   "cell_type": "code",
   "execution_count": 5,
   "metadata": {
    "collapsed": false
   },
   "outputs": [
   ],
   "source": [
    "\"\"\"\n",
    "CORRELACOES\n",
    "\"\"\"\n",
    "\n",
    "# ---------- RECIFE ----------\n",
    "#Dataframe Dengue municipio de Recife 2010 a 2012\n",
    "df_recife = dengue_mes_ano.loc[dengue_mes_ano['MUNICIPIO'] == 'RECIFE']\n",
    "ano_recife_maior_num_casos = df_recife[df_recife['CASOS']==df_recife['CASOS'].max()]['ANO'].values[0]"
   ]
  },
  {
   "cell_type": "code",
   "execution_count": 6,
   "metadata": {
    "collapsed": false
   },
   "outputs": [
   ],
   "source": [
    "#Criando dataframe de casos de dengue de Recife por mes (ano com o maior numero de casos de dengue)\n",
    "df_recife_maior_num_casos = dengue_mes_ano.loc[(dengue_mes_ano['MUNICIPIO'] == 'RECIFE') & (dengue_mes_ano['ANO'] == ano_recife_maior_num_casos)]"
   ]
  },
  {
   "cell_type": "code",
   "execution_count": 7,
   "metadata": {
    "collapsed": false
   },
   "outputs": [
    {
     "data": {
      "text/plain": [
       "<matplotlib.axes._subplots.AxesSubplot object at 0x7f098d50dc50>"
      ]
     },
     "execution_count": 7,
     "metadata": {
     },
     "output_type": "execute_result"
    },
    {
     "data": {
      "image/png": "[encoded data removed]"
     },
     "execution_count": 7,
     "metadata": {
     },
     "output_type": "execute_result"
    }
   ],
   "source": [
    "#Grafico Dengue de Recife ano maior numero de casos\n",
    "df_recife_maior_num_casos.plot(x='MES',y='CASOS',kind='scatter', title='Casos de Dengue de Recife ('+str(ano_recife_maior_num_casos)+')')"
   ]
  },
  {
   "cell_type": "code",
   "execution_count": 8,
   "metadata": {
    "collapsed": false
   },
   "outputs": [
    {
     "data": {
      "text/plain": [
       "0.013986013986013986"
      ]
     },
     "execution_count": 8,
     "metadata": {
     },
     "output_type": "execute_result"
    }
   ],
   "source": [
    "#Aplicando correlacao Spearman - nativo do Pandas\n",
    "df_recife_maior_num_casos['MES'].corr(df_recife_maior_num_casos['CASOS'], 'spearman')"
   ]
  },
  {
   "cell_type": "code",
   "execution_count": 9,
   "metadata": {
    "collapsed": false
   },
   "outputs": [
   ],
   "source": [
    "# ---------- ARCOVERDE ----------\n",
    "#Dataframe Dengue municipio de Arcoverde 2010 a 2012\n",
    "df_arcoverde = dengue_mes_ano.loc[dengue_mes_ano['MUNICIPIO'] == 'ARCOVERDE']\n",
    "ano_arcoverde_maior_num_casos = df_arcoverde[df_arcoverde['CASOS']==df_arcoverde['CASOS'].max()]['ANO'].values[0]"
   ]
  },
  {
   "cell_type": "code",
   "execution_count": 10,
   "metadata": {
    "collapsed": false
   },
   "outputs": [
   ],
   "source": [
    "#Criando dataframe de casos de dengue de Arcoverde por mes (ano com o maior numero de casos de dengue)\n",
    "df_arcoverde_maior_num_casos = dengue_mes_ano.loc[(dengue_mes_ano['MUNICIPIO'] == 'ARCOVERDE') & (dengue_mes_ano['ANO'] == ano_arcoverde_maior_num_casos)]"
   ]
  },
  {
   "cell_type": "code",
   "execution_count": 11,
   "metadata": {
    "collapsed": false
   },
   "outputs": [
    {
     "data": {
      "text/plain": [
       "<matplotlib.axes._subplots.AxesSubplot object at 0x7f0982df4e10>"
      ]
     },
     "execution_count": 11,
     "metadata": {
     },
     "output_type": "execute_result"
    },
    {
     "data": {
      "image/png": "[encoded data removed]"
     },
     "execution_count": 11,
     "metadata": {
     },
     "output_type": "execute_result"
    }
   ],
   "source": [
    "#Grafico Dengue de Arcoverde ano maior numero de casos\n",
    "df_arcoverde_maior_num_casos.plot(x='MES',y='CASOS',kind='scatter', title='Casos de Dengue de Arcoverde ('+str(ano_arcoverde_maior_num_casos)+')')"
   ]
  },
  {
   "cell_type": "code",
   "execution_count": 12,
   "metadata": {
    "collapsed": false
   },
   "outputs": [
    {
     "data": {
      "text/plain": [
       "-0.11188811188811189"
      ]
     },
     "execution_count": 12,
     "metadata": {
     },
     "output_type": "execute_result"
    }
   ],
   "source": [
    "#Aplicando correlacao Spearman - nativo do Pandas\n",
    "df_arcoverde_maior_num_casos['MES'].corr(df_arcoverde_maior_num_casos['CASOS'], 'spearman')"
   ]
  },
  {
   "cell_type": "code",
   "execution_count": 13,
   "metadata": {
    "collapsed": false
   },
   "outputs": [
   ],
   "source": [
    "# ---------- CABROBÓ ----------\n",
    "#Dataframe Dengue municipio de Cabrobó 2010 a 2012\n",
    "df_cabrobo = dengue_mes_ano.loc[dengue_mes_ano['MUNICIPIO'] == 'CABROBO']\n",
    "ano_cabrobo_maior_num_casos = df_cabrobo[df_cabrobo['CASOS']==df_cabrobo['CASOS'].max()]['ANO'].values[0]"
   ]
  },
  {
   "cell_type": "code",
   "execution_count": 14,
   "metadata": {
    "collapsed": false
   },
   "outputs": [
   ],
   "source": [
    "#Criando dataframe de casos de dengue de Cabrobó por mes (ano com o maior numero de casos de dengue)\n",
    "df_cabrobo_maior_num_casos = dengue_mes_ano.loc[(dengue_mes_ano['MUNICIPIO'] == 'CABROBO') & (dengue_mes_ano['ANO'] == ano_cabrobo_maior_num_casos)]"
   ]
  },
  {
   "cell_type": "code",
   "execution_count": 15,
   "metadata": {
    "collapsed": false
   },
   "outputs": [
    {
     "data": {
      "text/plain": [
       "<matplotlib.axes._subplots.AxesSubplot object at 0x7f0982d4d3d0>"
      ]
     },
     "execution_count": 15,
     "metadata": {
     },
     "output_type": "execute_result"
    },
    {
     "data": {
      "image/png": "[encoded data removed]"
     },
     "execution_count": 15,
     "metadata": {
     },
     "output_type": "execute_result"
    }
   ],
   "source": [
    "#Grafico Dengue de Cabrobó ano maior numero de casos\n",
    "df_cabrobo_maior_num_casos.plot(x='MES',y='CASOS',kind='scatter', title=u'Casos de Dengue de Cabrobó ('+str(ano_cabrobo_maior_num_casos)+')')"
   ]
  },
  {
   "cell_type": "code",
   "execution_count": 16,
   "metadata": {
    "collapsed": false
   },
   "outputs": [
    {
     "data": {
      "text/plain": [
       "-0.38940255584418926"
      ]
     },
     "execution_count": 16,
     "metadata": {
     },
     "output_type": "execute_result"
    }
   ],
   "source": [
    "#Aplicando correlacao Spearman - nativo do Pandas\n",
    "df_cabrobo_maior_num_casos['MES'].corr(df_cabrobo_maior_num_casos['CASOS'], 'spearman')"
   ]
  },
  {
   "cell_type": "code",
   "execution_count": 17,
   "metadata": {
    "collapsed": false
   },
   "outputs": [
   ],
   "source": [
    "# ---------- OURICURI ----------\n",
    "#Dataframe Dengue municipio de Ouricuri 2010 a 2012\n",
    "df_ouricuri = dengue_mes_ano.loc[dengue_mes_ano['MUNICIPIO'] == 'OURICURI']\n",
    "ano_ouricuri_maior_num_casos = df_ouricuri[df_ouricuri['CASOS']==df_ouricuri['CASOS'].max()]['ANO'].values[0]"
   ]
  },
  {
   "cell_type": "code",
   "execution_count": 18,
   "metadata": {
    "collapsed": false
   },
   "outputs": [
   ],
   "source": [
    "#Criando dataframe de casos de dengue de Ouricuri por mes (ano com o maior numero de casos de dengue)\n",
    "df_ouricuri_maior_num_casos = dengue_mes_ano.loc[(dengue_mes_ano['MUNICIPIO'] == 'OURICURI') & (dengue_mes_ano['ANO'] == ano_ouricuri_maior_num_casos)]"
   ]
  },
  {
   "cell_type": "code",
   "execution_count": 19,
   "metadata": {
    "collapsed": false
   },
   "outputs": [
    {
     "data": {
      "text/plain": [
       "<matplotlib.axes._subplots.AxesSubplot object at 0x7f098d50d050>"
      ]
     },
     "execution_count": 19,
     "metadata": {
     },
     "output_type": "execute_result"
    },
    {
     "data": {
      "image/png": "[encoded data removed]"
     },
     "execution_count": 19,
     "metadata": {
     },
     "output_type": "execute_result"
    }
   ],
   "source": [
    "#Grafico Dengue de Ouricuri ano maior numero de casos\n",
    "df_ouricuri_maior_num_casos.plot(x='MES',y='CASOS',kind='scatter', title='Casos de Dengue de Ouricuri ('+str(ano_ouricuri_maior_num_casos)+')')"
   ]
  },
  {
   "cell_type": "code",
   "execution_count": 20,
   "metadata": {
    "collapsed": false
   },
   "outputs": [
    {
     "data": {
      "text/plain": [
       "-0.73299844016663052"
      ]
     },
     "execution_count": 20,
     "metadata": {
     },
     "output_type": "execute_result"
    }
   ],
   "source": [
    "#Aplicando correlacao Spearman - nativo do Pandas\n",
    "df_ouricuri_maior_num_casos['MES'].corr(df_ouricuri_maior_num_casos['CASOS'], 'spearman')"
   ]
  },
  {
   "cell_type": "code",
   "execution_count": 21,
   "metadata": {
    "collapsed": false
   },
   "outputs": [
   ],
   "source": [
    "# ---------- PETROLINA ----------\n",
    "#Dataframe Dengue municipio de Petrolina 2010 a 2012\n",
    "df_petrolina = dengue_mes_ano.loc[dengue_mes_ano['MUNICIPIO'] == 'PETROLINA']\n",
    "ano_petrolina_maior_num_casos = df_petrolina[df_petrolina['CASOS']==df_petrolina['CASOS'].max()]['ANO'].values[0]"
   ]
  },
  {
   "cell_type": "code",
   "execution_count": 22,
   "metadata": {
    "collapsed": false
   },
   "outputs": [
   ],
   "source": [
    "#Criando dataframe de casos de dengue de Petrolina por mes (ano com o maior numero de casos de dengue)\n",
    "df_petrolina_maior_num_casos = dengue_mes_ano.loc[(dengue_mes_ano['MUNICIPIO'] == 'PETROLINA') & (dengue_mes_ano['ANO'] == ano_petrolina_maior_num_casos)]"
   ]
  },
  {
   "cell_type": "code",
   "execution_count": 23,
   "metadata": {
    "collapsed": false
   },
   "outputs": [
    {
     "data": {
      "text/plain": [
       "<matplotlib.axes._subplots.AxesSubplot object at 0x7f0982bc05d0>"
      ]
     },
     "execution_count": 23,
     "metadata": {
     },
     "output_type": "execute_result"
    },
    {
     "data": {
      "image/png": "[encoded data removed]"
     },
     "execution_count": 23,
     "metadata": {
     },
     "output_type": "execute_result"
    }
   ],
   "source": [
    "#Grafico Dengue de Petrolina ano maior numero de casos\n",
    "df_petrolina_maior_num_casos.plot(x='MES',y='CASOS',kind='scatter', title='Casos de Dengue de Petrolina ('+str(ano_petrolina_maior_num_casos)+')')"
   ]
  },
  {
   "cell_type": "code",
   "execution_count": 24,
   "metadata": {
    "collapsed": false
   },
   "outputs": [
    {
     "data": {
      "text/plain": [
       "-0.93006993006993022"
      ]
     },
     "execution_count": 24,
     "metadata": {
     },
     "output_type": "execute_result"
    }
   ],
   "source": [
    "#Aplicando correlacao Spearman - nativo do Pandas\n",
    "df_petrolina_maior_num_casos['MES'].corr(df_petrolina_maior_num_casos['CASOS'], 'spearman')"
   ]
  },
  {
   "cell_type": "code",
   "execution_count": 25,
   "metadata": {
    "collapsed": false
   },
   "outputs": [
   ],
   "source": [
    "# ---------- SURUBIM ----------\n",
    "#Dataframe Dengue municipio de Surubim 2010 a 2012\n",
    "df_surubim = dengue_mes_ano.loc[dengue_mes_ano['MUNICIPIO'] == 'SURUBIM']\n",
    "ano_surubim_maior_num_casos = df_surubim[df_surubim['CASOS']==df_surubim['CASOS'].max()]['ANO'].values[0]"
   ]
  },
  {
   "cell_type": "code",
   "execution_count": 26,
   "metadata": {
    "collapsed": false
   },
   "outputs": [
   ],
   "source": [
    "#Criando dataframe de casos de dengue de Surubim por mes (ano com o maior numero de casos de dengue)\n",
    "df_surubim_maior_num_casos = dengue_mes_ano.loc[(dengue_mes_ano['MUNICIPIO'] == 'SURUBIM') & (dengue_mes_ano['ANO'] == ano_surubim_maior_num_casos)]"
   ]
  },
  {
   "cell_type": "code",
   "execution_count": 27,
   "metadata": {
    "collapsed": false
   },
   "outputs": [
    {
     "data": {
      "text/plain": [
       "<matplotlib.axes._subplots.AxesSubplot object at 0x7f0982b67510>"
      ]
     },
     "execution_count": 27,
     "metadata": {
     },
     "output_type": "execute_result"
    },
    {
     "data": {
      "image/png": "[encoded data removed]"
     },
     "execution_count": 27,
     "metadata": {
     },
     "output_type": "execute_result"
    }
   ],
   "source": [
    "#Grafico Dengue de Surubim ano maior numero de casos\n",
    "df_surubim_maior_num_casos.plot(x='MES',y='CASOS',kind='scatter', title='Casos de Dengue de Surubim ('+str(ano_surubim_maior_num_casos)+')')"
   ]
  },
  {
   "cell_type": "code",
   "execution_count": 28,
   "metadata": {
    "collapsed": false
   },
   "outputs": [
    {
     "data": {
      "text/plain": [
       "-0.439760553561232"
      ]
     },
     "execution_count": 28,
     "metadata": {
     },
     "output_type": "execute_result"
    }
   ],
   "source": [
    "#Aplicando correlacao Spearman - nativo do Pandas\n",
    "df_surubim_maior_num_casos['MES'].corr(df_surubim_maior_num_casos['CASOS'], 'spearman')"
   ]
  },
  {
   "cell_type": "code",
   "execution_count": 29,
   "metadata": {
    "collapsed": false
   },
   "outputs": [
   ],
   "source": [
    "# ---------- TRIUNFO ----------\n",
    "#Dataframe Dengue municipio de Triunfo 2010 a 2012\n",
    "df_triunfo = dengue_mes_ano.loc[dengue_mes_ano['MUNICIPIO'] == 'TRIUNFO']\n",
    "ano_triunfo_maior_num_casos = df_triunfo[df_triunfo['CASOS']==df_triunfo['CASOS'].max()]['ANO'].values[0]"
   ]
  },
  {
   "cell_type": "code",
   "execution_count": 30,
   "metadata": {
    "collapsed": false
   },
   "outputs": [
   ],
   "source": [
    "#Criando dataframe de casos de dengue de Triunfo por mes (ano com o maior numero de casos de dengue)\n",
    "df_triunfo_maior_num_casos = dengue_mes_ano.loc[(dengue_mes_ano['MUNICIPIO'] == 'TRIUNFO') & (dengue_mes_ano['ANO'] == ano_triunfo_maior_num_casos)]"
   ]
  },
  {
   "cell_type": "code",
   "execution_count": 31,
   "metadata": {
    "collapsed": false
   },
   "outputs": [
    {
     "data": {
      "text/plain": [
       "<matplotlib.axes._subplots.AxesSubplot object at 0x7f0982ab5710>"
      ]
     },
     "execution_count": 31,
     "metadata": {
     },
     "output_type": "execute_result"
    },
    {
     "data": {
      "image/png": "[encoded data removed]"
     },
     "execution_count": 31,
     "metadata": {
     },
     "output_type": "execute_result"
    }
   ],
   "source": [
    "#Grafico Dengue de Triunfo ano maior numero de casos\n",
    "df_triunfo_maior_num_casos.plot(x='MES',y='CASOS',kind='scatter', title='Casos de Dengue de Triunfo ('+str(ano_triunfo_maior_num_casos)+')')"
   ]
  },
  {
   "cell_type": "code",
   "execution_count": 32,
   "metadata": {
    "collapsed": false
   },
   "outputs": [
    {
     "data": {
      "text/plain": [
       "-0.65260240543083359"
      ]
     },
     "execution_count": 32,
     "metadata": {
     },
     "output_type": "execute_result"
    }
   ],
   "source": [
    "#Aplicando correlacao Spearman - nativo do Pandas\n",
    "df_triunfo_maior_num_casos['MES'].corr(df_triunfo_maior_num_casos['CASOS'], 'spearman')"
   ]
  }
 ],
 "metadata": {
  "kernelspec": {
   "display_name": "SageMath (stable)",
   "language": "sagemath",
   "name": "sagemath"
  },
  "language_info": {
   "codemirror_mode": {
    "name": "ipython",
    "version": 2
   },
   "file_extension": ".py",
   "mimetype": "text/x-python",
   "name": "python",
   "nbconvert_exporter": "python",
   "pygments_lexer": "ipython2",
   "version": "2.7.15"
  }
 },
 "nbformat": 4,
 "nbformat_minor": 0
}