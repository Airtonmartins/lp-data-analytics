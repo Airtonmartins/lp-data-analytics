{
 "cells": [
  {
   "cell_type": "code",
   "execution_count": 1,
   "metadata": {
    "collapsed": false
   },
   "outputs": [
   ],
   "source": [
    "import pandas as pd\n",
    "from matplotlib import pyplot as plt\n",
    "from math import sqrt\n",
    "from functools import reduce"
   ]
  },
  {
   "cell_type": "code",
   "execution_count": 2,
   "metadata": {
    "collapsed": false
   },
   "outputs": [
   ],
   "source": [
    "#Lendo os arquivos csv de precipitacao e de casos de dengue\n",
    "df_precipitacao = pd.read_csv('inmet/all_cities.csv', sep=',')\n",
    "df_dengue = pd.read_csv('datasus/all_dengue.csv', sep=';')"
   ]
  },
  {
   "cell_type": "code",
   "execution_count": 3,
   "metadata": {
    "collapsed": false
   },
   "outputs": [
   ],
   "source": [
    "\"\"\"\n",
    "TRATAMENTO DO ARQUIVO CSV CONTENDO OS DADOS DE PRECIPITACAO\n",
    "\"\"\"\n",
    "\n",
    "#Criando dataframe de precipitacao por ano/mes de cada estacao\n",
    "precipitacao_mes_ano = pd.DataFrame({'Precipitacao' : df_precipitacao.groupby([\"Estacao\", \"year\",\"month\"])[\"Precipitacao\"].sum()}).reset_index()"
   ]
  },
  {
   "cell_type": "code",
   "execution_count": 4,
   "metadata": {
    "collapsed": false
   },
   "outputs": [
   ],
   "source": [
    "#Alterando os nomes das colunas do dataframe precipitacao_mes_ano\n",
    "precipitacao_mes_ano.columns = ['MUNICIPIO','ANO','MES','PRECIPITACAO']"
   ]
  },
  {
   "cell_type": "code",
   "execution_count": 5,
   "metadata": {
    "collapsed": false
   },
   "outputs": [
   ],
   "source": [
    "#Criando dataframe de precipitacao ano/mes de 2010 a 2012 de cada estacao\n",
    "precipitacao_mes_ano_2010_2012 = precipitacao_mes_ano.loc[(precipitacao_mes_ano['ANO'] < 2013) & (precipitacao_mes_ano['ANO'] > 2009)]"
   ]
  },
  {
   "cell_type": "code",
   "execution_count": 6,
   "metadata": {
    "collapsed": false
   },
   "outputs": [
   ],
   "source": [
    "#Criando dataframe de precipitacao por ano de cada estacao\n",
    "precipitacao_ano = pd.DataFrame({'PRECIPITACAO' : precipitacao_mes_ano.groupby([\"MUNICIPIO\",\"ANO\"])[\"PRECIPITACAO\"].sum()}).reset_index()"
   ]
  },
  {
   "cell_type": "code",
   "execution_count": 7,
   "metadata": {
    "collapsed": false
   },
   "outputs": [
   ],
   "source": [
    "#Precipitacao de todos os municipios por ano de 2010 a 2012 \n",
    "precipitacao_ano_2010_2012 = precipitacao_ano.loc[(precipitacao_ano['ANO'] < 2013) & (precipitacao_ano['ANO'] > 2009)]"
   ]
  },
  {
   "cell_type": "code",
   "execution_count": 8,
   "metadata": {
    "collapsed": false
   },
   "outputs": [
   ],
   "source": [
    "\"\"\"\n",
    "FUNCAO COEFICIENTE DE CORRELACAO LINEAR\n",
    "\"\"\"\n",
    "\n",
    "#Funcao somatorio\n",
    "def somatorio(lista):\n",
    "    return reduce(lambda x, y: x + y, lista)"
   ]
  },
  {
   "cell_type": "code",
   "execution_count": 9,
   "metadata": {
    "collapsed": false
   },
   "outputs": [
   ],
   "source": [
    "#Funcao potencia\n",
    "def toPower(lista, p):\n",
    "    return list(map(lambda x: (x**p),lista))"
   ]
  },
  {
   "cell_type": "code",
   "execution_count": 10,
   "metadata": {
    "collapsed": false
   },
   "outputs": [
   ],
   "source": [
    "#Funcao Correlacao\n",
    "def correlacao(list1, list2):\n",
    "    length_lists = len(list1)\n",
    "    somatorio_xy = somatorio(list(map(lambda x, y: x*y, list1, list2)))\n",
    "    somatorio_x = somatorio(list1)\n",
    "    somatorio_y = somatorio(list2)\n",
    "\n",
    "    a = somatorio_xy - (somatorio_x * somatorio_y / length_lists)\n",
    "\n",
    "    somatorio_quad_x = somatorio(toPower(list1, 2))\n",
    "    somatorio_quad_y = somatorio(toPower(list2, 2))\n",
    "    somatorio_x_quad = toPower([somatorio(list1)], 2)[0]\n",
    "    somatorio_y_quad = toPower([somatorio(list2)], 2)[0]\n",
    "\n",
    "    b1 = somatorio_quad_x - (somatorio_x_quad / length_lists)\n",
    "    b2 = somatorio_quad_y - (somatorio_y_quad / length_lists)\n",
    "\n",
    "    b = sqrt(b1 * b2)\n",
    "\n",
    "    return(a / b)"
   ]
  },
  {
   "cell_type": "code",
   "execution_count": 11,
   "metadata": {
    "collapsed": false
   },
   "outputs": [
   ],
   "source": [
    "\"\"\"\n",
    "RECIFE CASOS DE DENGUE E PRECIPITACAO (ANO COM MAIOR PRECIPITACAO)\n",
    "\"\"\"\n",
    "\n",
    "#Descobrindo o ano com maior precipitacao em Recife entre 2010 e 2012\n",
    "df_recife_2010_2012 = precipitacao_ano_2010_2012.loc[(precipitacao_ano_2010_2012['MUNICIPIO'] == 'RECIFE')]\n",
    "ano_recife_maior_precipitacao = df_recife_2010_2012[df_recife_2010_2012['PRECIPITACAO']==df_recife_2010_2012['PRECIPITACAO'].max()]['ANO'].values[0]"
   ]
  },
  {
   "cell_type": "code",
   "execution_count": 12,
   "metadata": {
    "collapsed": false
   },
   "outputs": [
   ],
   "source": [
    "#Criando dataframe de precipitacao de Recife no ano de maior precipitacao (todos os meses)\n",
    "recife_maior_precipitacao_2010_2012 = precipitacao_mes_ano_2010_2012.loc[(precipitacao_mes_ano_2010_2012['MUNICIPIO'] == 'RECIFE') & (precipitacao_mes_ano_2010_2012['ANO'] == ano_recife_maior_precipitacao)]"
   ]
  },
  {
   "cell_type": "code",
   "execution_count": 13,
   "metadata": {
    "collapsed": false
   },
   "outputs": [
   ],
   "source": [
    "#Criando dataframe de casos de dengue do Recife no ano de maior precipitacao (todos os meses)\n",
    "recife_casos_dengue = df_dengue.loc[(df_dengue['MUNICIPIO'] == 'RECIFE') & (df_dengue['ANO'] == ano_recife_maior_precipitacao)]"
   ]
  },
  {
   "cell_type": "code",
   "execution_count": 14,
   "metadata": {
    "collapsed": false
   },
   "outputs": [
   ],
   "source": [
    "#Criando dataframe de relacao casos de dengue x precipitacao do Recife no ano de maior precipitacao (todos os meses)\n",
    "relacao_dengue_precipitacao_recife = recife_casos_dengue.copy()\n",
    "relacao_dengue_precipitacao_recife['PRECIPITACAO'] = recife_maior_precipitacao_2010_2012['PRECIPITACAO'].values"
   ]
  },
  {
   "cell_type": "code",
   "execution_count": 15,
   "metadata": {
    "collapsed": false
   },
   "outputs": [
    {
     "data": {
      "text/plain": [
       "<matplotlib.axes._subplots.AxesSubplot object at 0x7faf17c79610>"
      ]
     },
     "execution_count": 15,
     "metadata": {
     },
     "output_type": "execute_result"
    },
    {
     "data": {
      "image/png": "[encoded data removed]"
     },
     "execution_count": 15,
     "metadata": {
     },
     "output_type": "execute_result"
    }
   ],
   "source": [
    "#Grafico de dispersao precipitacao x casos de dengue por mes do ano de maior Precipitacao do municipio Recife\n",
    "relacao_dengue_precipitacao_recife.plot(x='PRECIPITACAO',y='CASOS',kind='scatter', title='Precipitacao x Casos de Dengue do Recife ('+str(ano_recife_maior_precipitacao)+')',color='r')"
   ]
  },
  {
   "cell_type": "code",
   "execution_count": 16,
   "metadata": {
    "collapsed": false
   },
   "outputs": [
    {
     "data": {
      "text/plain": [
       "0.5971088416660116"
      ]
     },
     "execution_count": 16,
     "metadata": {
     },
     "output_type": "execute_result"
    }
   ],
   "source": [
    "#Aplicando o metodo de Coeficiente de Correlacao Linear\n",
    "list1 = relacao_dengue_precipitacao_recife['PRECIPITACAO'].values.tolist()\n",
    "list2 = relacao_dengue_precipitacao_recife['CASOS'].values.tolist()\n",
    "correlacao(list1, list2)"
   ]
  },
  {
   "cell_type": "code",
   "execution_count": 17,
   "metadata": {
    "collapsed": false
   },
   "outputs": [
    {
     "data": {
      "text/plain": [
       "0.55944055944055959"
      ]
     },
     "execution_count": 17,
     "metadata": {
     },
     "output_type": "execute_result"
    }
   ],
   "source": [
    "#Aplicando correlacao Spearman - nativo do Pandas\n",
    "relacao_dengue_precipitacao_recife['PRECIPITACAO'].corr(relacao_dengue_precipitacao_recife['CASOS'], 'spearman')"
   ]
  },
  {
   "cell_type": "code",
   "execution_count": 18,
   "metadata": {
    "collapsed": false
   },
   "outputs": [
   ],
   "source": [
    "\"\"\"\n",
    "TRIUNFO CASOS DE DENGUE E PRECIPITACAO (ANO COM MAIOR PRECIPITACAO)\n",
    "\"\"\"\n",
    "\n",
    "#Descobrindo o ano com maior precipitacao em Triunfo entre 2010 e 2012\n",
    "df_triunfo_2010_2012 = precipitacao_ano_2010_2012.loc[(precipitacao_ano_2010_2012['MUNICIPIO'] == 'TRIUNFO')]\n",
    "ano_triunfo_maior_precipitacao = df_triunfo_2010_2012[df_triunfo_2010_2012['PRECIPITACAO']==df_triunfo_2010_2012['PRECIPITACAO'].max()]['ANO'].values[0]"
   ]
  },
  {
   "cell_type": "code",
   "execution_count": 19,
   "metadata": {
    "collapsed": false
   },
   "outputs": [
   ],
   "source": [
    "#Criando dataframe de precipitacao de Triunfo no ano de maior Precipitacao (todos os meses)\n",
    "triunfo_maior_precipitacao_2010_2012 = precipitacao_mes_ano_2010_2012.loc[(precipitacao_mes_ano_2010_2012['MUNICIPIO'] == 'TRIUNFO') & (precipitacao_mes_ano_2010_2012['ANO'] == ano_triunfo_maior_precipitacao)]"
   ]
  },
  {
   "cell_type": "code",
   "execution_count": 20,
   "metadata": {
    "collapsed": false
   },
   "outputs": [
   ],
   "source": [
    "#Criando dataframe de casos de dengue de Triunfo no ano de maior Precipitacao (todos os meses)\n",
    "triunfo_casos_dengue = df_dengue.loc[(df_dengue['MUNICIPIO'] == 'TRIUNFO') & (df_dengue['ANO'] == ano_triunfo_maior_precipitacao)]"
   ]
  },
  {
   "cell_type": "code",
   "execution_count": 21,
   "metadata": {
    "collapsed": false
   },
   "outputs": [
   ],
   "source": [
    "#Criando dataframe de relacao casos de dengue x precipitacao de Triunfo no ano de maior Precipitacao (todos os meses)\n",
    "relacao_dengue_precipitacao_triunfo = triunfo_casos_dengue.copy()\n",
    "relacao_dengue_precipitacao_triunfo['PRECIPITACAO'] = triunfo_maior_precipitacao_2010_2012['PRECIPITACAO'].values"
   ]
  },
  {
   "cell_type": "code",
   "execution_count": 22,
   "metadata": {
    "collapsed": false
   },
   "outputs": [
    {
     "data": {
      "text/plain": [
       "<matplotlib.axes._subplots.AxesSubplot object at 0x7faf0d4d1d10>"
      ]
     },
     "execution_count": 22,
     "metadata": {
     },
     "output_type": "execute_result"
    },
    {
     "data": {
      "image/png": "[encoded data removed]"
     },
     "execution_count": 22,
     "metadata": {
     },
     "output_type": "execute_result"
    }
   ],
   "source": [
    "#Grafico de dispersao precipitacao x casos de dengue por mes do ano de maior Precipitacao do municipio Triunfo\n",
    "relacao_dengue_precipitacao_triunfo.plot(x='PRECIPITACAO',y='CASOS',kind='scatter', title='Precipitacao x Casos de Dengue de Triunfo ('+str(ano_triunfo_maior_precipitacao)+')',color='r')"
   ]
  },
  {
   "cell_type": "code",
   "execution_count": 23,
   "metadata": {
    "collapsed": false
   },
   "outputs": [
    {
     "data": {
      "text/plain": [
       "0.32970054585328357"
      ]
     },
     "execution_count": 23,
     "metadata": {
     },
     "output_type": "execute_result"
    }
   ],
   "source": [
    "#Aplicando o metodo de Coeficiente de Correlacao Linear\n",
    "list3 = relacao_dengue_precipitacao_triunfo['PRECIPITACAO'].values.tolist()\n",
    "list4 = relacao_dengue_precipitacao_triunfo['CASOS'].values.tolist()\n",
    "correlacao(list3, list4)"
   ]
  },
  {
   "cell_type": "code",
   "execution_count": 24,
   "metadata": {
    "collapsed": false
   },
   "outputs": [
    {
     "data": {
      "text/plain": [
       "0.40387373576316599"
      ]
     },
     "execution_count": 24,
     "metadata": {
     },
     "output_type": "execute_result"
    }
   ],
   "source": [
    "#Aplicando correlacao Spearman - nativo do Pandas\n",
    "relacao_dengue_precipitacao_triunfo['PRECIPITACAO'].corr(relacao_dengue_precipitacao_triunfo['CASOS'],'spearman')"
   ]
  },
  {
   "cell_type": "code",
   "execution_count": 25,
   "metadata": {
    "collapsed": false
   },
   "outputs": [
   ],
   "source": [
    "\"\"\"\n",
    "CABROBÓ CASOS DE DENGUE E PRECIPITACAO (ANO COM MAIOR PRECIPITACAO)\n",
    "\"\"\"\n",
    "\n",
    "#Descobrindo o ano com maior precipitacao em Cabrobó entre 2010 e 2012\n",
    "df_cabrobo_2010_2012 = precipitacao_ano_2010_2012.loc[(precipitacao_ano_2010_2012['MUNICIPIO'] == 'CABROBO')]\n",
    "ano_cabrobo_maior_precipitacao = df_cabrobo_2010_2012[df_cabrobo_2010_2012['PRECIPITACAO']==df_cabrobo_2010_2012['PRECIPITACAO'].max()]['ANO'].values[0]"
   ]
  },
  {
   "cell_type": "code",
   "execution_count": 26,
   "metadata": {
    "collapsed": false
   },
   "outputs": [
   ],
   "source": [
    "#Criando dataframe de precipitacao de Cabrobó no ano de maior Precipitacao (todos os meses)\n",
    "cabrobo_maior_precipitacao_2010_2012 = precipitacao_mes_ano_2010_2012.loc[(precipitacao_mes_ano_2010_2012['MUNICIPIO'] == 'CABROBO') & (precipitacao_mes_ano_2010_2012['ANO'] == ano_cabrobo_maior_precipitacao)]"
   ]
  },
  {
   "cell_type": "code",
   "execution_count": 27,
   "metadata": {
    "collapsed": false
   },
   "outputs": [
   ],
   "source": [
    "#Criando dataframe de casos de dengue de Cabrobó no ano de maior Precipitacao (todos os meses)\n",
    "cabrobo_casos_dengue = df_dengue.loc[(df_dengue['MUNICIPIO'] == 'CABROBO') & (df_dengue['ANO'] == ano_cabrobo_maior_precipitacao)]"
   ]
  },
  {
   "cell_type": "code",
   "execution_count": 28,
   "metadata": {
    "collapsed": false
   },
   "outputs": [
   ],
   "source": [
    "#Criando dataframe de relacao casos de dengue x precipitacao de Cabrobó no ano de maior Precipitacao (todos os meses)\n",
    "relacao_dengue_precipitacao_cabrobo = cabrobo_casos_dengue.copy()\n",
    "relacao_dengue_precipitacao_cabrobo['PRECIPITACAO'] = cabrobo_maior_precipitacao_2010_2012['PRECIPITACAO'].values"
   ]
  },
  {
   "cell_type": "code",
   "execution_count": 29,
   "metadata": {
    "collapsed": false
   },
   "outputs": [
    {
     "data": {
      "text/plain": [
       "<matplotlib.axes._subplots.AxesSubplot object at 0x7faf0d3e5090>"
      ]
     },
     "execution_count": 29,
     "metadata": {
     },
     "output_type": "execute_result"
    },
    {
     "data": {
      "image/png": "[encoded data removed]"
     },
     "execution_count": 29,
     "metadata": {
     },
     "output_type": "execute_result"
    }
   ],
   "source": [
    "#Grafico de dispersao precipitacao x casos de dengue por mes do ano de maior Precipitacao do municipio Cabrobó\n",
    "relacao_dengue_precipitacao_cabrobo.plot(x='PRECIPITACAO',y='CASOS',kind='scatter', title=u'Precipitacao x Casos de Dengue de Cabrobó ('+str(ano_cabrobo_maior_precipitacao)+')',color='r')"
   ]
  },
  {
   "cell_type": "code",
   "execution_count": 30,
   "metadata": {
    "collapsed": false
   },
   "outputs": [
    {
     "data": {
      "text/plain": [
       "0.02798352765226463"
      ]
     },
     "execution_count": 30,
     "metadata": {
     },
     "output_type": "execute_result"
    }
   ],
   "source": [
    "#Aplicando o metodo de Coeficiente de Correlacao Linear\n",
    "list7 = relacao_dengue_precipitacao_cabrobo['PRECIPITACAO'].values.tolist()\n",
    "list8 = relacao_dengue_precipitacao_cabrobo['CASOS'].values.tolist()\n",
    "correlacao(list7, list8)"
   ]
  },
  {
   "cell_type": "code",
   "execution_count": 31,
   "metadata": {
    "collapsed": false
   },
   "outputs": [
    {
     "data": {
      "text/plain": [
       "0.13101394402234404"
      ]
     },
     "execution_count": 31,
     "metadata": {
     },
     "output_type": "execute_result"
    }
   ],
   "source": [
    "#Aplicando correlacao Spearman - nativo do Pandas\n",
    "relacao_dengue_precipitacao_cabrobo['PRECIPITACAO'].corr(relacao_dengue_precipitacao_cabrobo['CASOS'],'spearman')"
   ]
  },
  {
   "cell_type": "code",
   "execution_count": 32,
   "metadata": {
    "collapsed": false
   },
   "outputs": [
   ],
   "source": [
    "\"\"\"\n",
    "OURICURI CASOS DE DENGUE E PRECIPITACAO (ANO COM MAIOR PRECIPITACAO)\n",
    "\"\"\"\n",
    "\n",
    "#Descobrindo o ano com maior precipitacao em Ouricuri entre 2010 e 2012\n",
    "df_ouricuri_2010_2012 = precipitacao_ano_2010_2012.loc[(precipitacao_ano_2010_2012['MUNICIPIO'] == 'OURICURI')]\n",
    "ano_ouricuri_maior_precipitacao = df_ouricuri_2010_2012[df_ouricuri_2010_2012['PRECIPITACAO']==df_ouricuri_2010_2012['PRECIPITACAO'].max()]['ANO'].values[0]"
   ]
  },
  {
   "cell_type": "code",
   "execution_count": 33,
   "metadata": {
    "collapsed": false
   },
   "outputs": [
   ],
   "source": [
    "#Criando dataframe de precipitacao de Ouricuri no ano de maior Precipitacao (todos os meses)\n",
    "ouricuri_maior_precipitacao_2010_2012 = precipitacao_mes_ano_2010_2012.loc[(precipitacao_mes_ano_2010_2012['MUNICIPIO'] == 'OURICURI') & (precipitacao_mes_ano_2010_2012['ANO'] == ano_ouricuri_maior_precipitacao)]"
   ]
  },
  {
   "cell_type": "code",
   "execution_count": 34,
   "metadata": {
    "collapsed": false
   },
   "outputs": [
   ],
   "source": [
    "#Criando dataframe de casos de dengue de Ouricuri no ano de maior Precipitacao (todos os meses)\n",
    "ouricuri_casos_dengue = df_dengue.loc[(df_dengue['MUNICIPIO'] == 'OURICURI') & (df_dengue['ANO'] == ano_ouricuri_maior_precipitacao)]"
   ]
  },
  {
   "cell_type": "code",
   "execution_count": 35,
   "metadata": {
    "collapsed": false
   },
   "outputs": [
   ],
   "source": [
    "#Criando dataframe de relacao casos de dengue x precipitacao de Ouricuri no ano de maior Precipitacao (todos os meses)\n",
    "relacao_dengue_precipitacao_ouricuri = ouricuri_casos_dengue.copy()\n",
    "relacao_dengue_precipitacao_ouricuri['PRECIPITACAO'] = ouricuri_maior_precipitacao_2010_2012['PRECIPITACAO'].values"
   ]
  },
  {
   "cell_type": "code",
   "execution_count": 36,
   "metadata": {
    "collapsed": false
   },
   "outputs": [
    {
     "data": {
      "text/plain": [
       "<matplotlib.axes._subplots.AxesSubplot object at 0x7faf0d2f95d0>"
      ]
     },
     "execution_count": 36,
     "metadata": {
     },
     "output_type": "execute_result"
    },
    {
     "data": {
      "image/png": "[encoded data removed]"
     },
     "execution_count": 36,
     "metadata": {
     },
     "output_type": "execute_result"
    }
   ],
   "source": [
    "#Grafico de dispersao precipitacao x casos de dengue por mes do ano de maior Precipitacao do municipio Ouricuri\n",
    "relacao_dengue_precipitacao_ouricuri.plot(x='PRECIPITACAO',y='CASOS',kind='scatter', title='Precipitacao x Casos de Dengue de Ouricuri ('+str(ano_ouricuri_maior_precipitacao)+')',color='r')"
   ]
  },
  {
   "cell_type": "code",
   "execution_count": 37,
   "metadata": {
    "collapsed": false
   },
   "outputs": [
    {
     "data": {
      "text/plain": [
       "-0.16350702515022025"
      ]
     },
     "execution_count": 37,
     "metadata": {
     },
     "output_type": "execute_result"
    }
   ],
   "source": [
    "#Aplicando o metodo de Coeficiente de Correlacao Linear\n",
    "list9 = relacao_dengue_precipitacao_ouricuri['PRECIPITACAO'].values.tolist()\n",
    "list10 = relacao_dengue_precipitacao_ouricuri['CASOS'].values.tolist()\n",
    "correlacao(list9, list10)"
   ]
  },
  {
   "cell_type": "code",
   "execution_count": 38,
   "metadata": {
    "collapsed": false
   },
   "outputs": [
    {
     "data": {
      "text/plain": [
       "-0.26276015185165802"
      ]
     },
     "execution_count": 38,
     "metadata": {
     },
     "output_type": "execute_result"
    }
   ],
   "source": [
    "#Aplicando correlacao Spearman - nativo do Pandas\n",
    "relacao_dengue_precipitacao_ouricuri['PRECIPITACAO'].corr(relacao_dengue_precipitacao_ouricuri['CASOS'],'spearman')"
   ]
  },
  {
   "cell_type": "code",
   "execution_count": 39,
   "metadata": {
    "collapsed": false
   },
   "outputs": [
   ],
   "source": [
    "\"\"\"\n",
    "PETROLINA CASOS DE DENGUE E PRECIPITACAO (ANO COM MAIOR PRECIPITACAO)\n",
    "\"\"\"\n",
    "\n",
    "#Descobrindo o ano com maior precipitacao em Petrolina entre 2010 e 2012\n",
    "df_petrolina_2010_2012 = precipitacao_ano_2010_2012.loc[(precipitacao_ano_2010_2012['MUNICIPIO'] == 'PETROLINA')]\n",
    "ano_petrolina_maior_precipitacao = df_petrolina_2010_2012[df_petrolina_2010_2012['PRECIPITACAO']==df_petrolina_2010_2012['PRECIPITACAO'].max()]['ANO'].values[0]"
   ]
  },
  {
   "cell_type": "code",
   "execution_count": 40,
   "metadata": {
    "collapsed": false
   },
   "outputs": [
   ],
   "source": [
    "#Criando dataframe de precipitacao de Petrolina no ano de maior Precipitacao (todos os meses)\n",
    "petrolina_maior_precipitacao_2010_2012 = precipitacao_mes_ano_2010_2012.loc[(precipitacao_mes_ano_2010_2012['MUNICIPIO'] == 'PETROLINA') & (precipitacao_mes_ano_2010_2012['ANO'] == ano_petrolina_maior_precipitacao)]"
   ]
  },
  {
   "cell_type": "code",
   "execution_count": 41,
   "metadata": {
    "collapsed": false
   },
   "outputs": [
   ],
   "source": [
    "#Criando dataframe de casos de dengue de Petrolina no ano de maior Precipitacao (todos os meses)\n",
    "petrolina_casos_dengue = df_dengue.loc[(df_dengue['MUNICIPIO'] == 'PETROLINA') & (df_dengue['ANO'] == ano_petrolina_maior_precipitacao)]"
   ]
  },
  {
   "cell_type": "code",
   "execution_count": 42,
   "metadata": {
    "collapsed": false
   },
   "outputs": [
   ],
   "source": [
    "#Criando dataframe de relacao casos de dengue x precipitacao de Petrolina no ano de maior Precipitacao (todos os meses)\n",
    "relacao_dengue_precipitacao_petrolina = petrolina_casos_dengue.copy()\n",
    "relacao_dengue_precipitacao_petrolina['PRECIPITACAO'] = petrolina_maior_precipitacao_2010_2012['PRECIPITACAO'].values"
   ]
  },
  {
   "cell_type": "code",
   "execution_count": 43,
   "metadata": {
    "collapsed": false
   },
   "outputs": [
    {
     "data": {
      "text/plain": [
       "<matplotlib.axes._subplots.AxesSubplot object at 0x7faf0d22b310>"
      ]
     },
     "execution_count": 43,
     "metadata": {
     },
     "output_type": "execute_result"
    },
    {
     "data": {
      "image/png": "[encoded data removed]"
     },
     "execution_count": 43,
     "metadata": {
     },
     "output_type": "execute_result"
    }
   ],
   "source": [
    "#Grafico de dispersao precipitacao x casos de dengue por mes do ano de maior Precipitacao do municipio Petrolina\n",
    "relacao_dengue_precipitacao_petrolina.plot(x='PRECIPITACAO',y='CASOS',kind='scatter', title='Precipitacao x Casos de Dengue de Petrolina ('+str(ano_petrolina_maior_precipitacao)+')',color='r')"
   ]
  },
  {
   "cell_type": "code",
   "execution_count": 44,
   "metadata": {
    "collapsed": false
   },
   "outputs": [
    {
     "data": {
      "text/plain": [
       "-0.034518245513192"
      ]
     },
     "execution_count": 44,
     "metadata": {
     },
     "output_type": "execute_result"
    }
   ],
   "source": [
    "#Aplicando o metodo de Coeficiente de Correlacao Linear\n",
    "list11 = relacao_dengue_precipitacao_petrolina['PRECIPITACAO'].values.tolist()\n",
    "list12 = relacao_dengue_precipitacao_petrolina['CASOS'].values.tolist()\n",
    "correlacao(list11, list12)"
   ]
  },
  {
   "cell_type": "code",
   "execution_count": 45,
   "metadata": {
    "collapsed": false
   },
   "outputs": [
    {
     "data": {
      "text/plain": [
       "0.20979020979020982"
      ]
     },
     "execution_count": 45,
     "metadata": {
     },
     "output_type": "execute_result"
    }
   ],
   "source": [
    "#Aplicando correlacao Spearman - nativo do Pandas\n",
    "relacao_dengue_precipitacao_petrolina['PRECIPITACAO'].corr(relacao_dengue_precipitacao_petrolina['CASOS'],'spearman')"
   ]
  },
  {
   "cell_type": "code",
   "execution_count": 46,
   "metadata": {
    "collapsed": false
   },
   "outputs": [
   ],
   "source": [
    "\"\"\"\n",
    "SURUBIM CASOS DE DENGUE E PRECIPITACAO (ANO COM MAIOR PRECIPITACAO)\n",
    "\"\"\"\n",
    "\n",
    "#Descobrindo o ano com maior precipitacao em Surubim entre 2010 e 2012\n",
    "df_surubim_2010_2012 = precipitacao_ano_2010_2012.loc[(precipitacao_ano_2010_2012['MUNICIPIO'] == 'SURUBIM')]\n",
    "ano_surubim_maior_precipitacao = df_surubim_2010_2012[df_surubim_2010_2012['PRECIPITACAO']==df_surubim_2010_2012['PRECIPITACAO'].max()]['ANO'].values[0]"
   ]
  },
  {
   "cell_type": "code",
   "execution_count": 47,
   "metadata": {
    "collapsed": false
   },
   "outputs": [
   ],
   "source": [
    "#Criando dataframe de precipitacao de Surubim no ano de maior Precipitacao (todos os meses)\n",
    "surubim_maior_precipitacao_2010_2012 = precipitacao_mes_ano_2010_2012.loc[(precipitacao_mes_ano_2010_2012['MUNICIPIO'] == 'SURUBIM') & (precipitacao_mes_ano_2010_2012['ANO'] == ano_surubim_maior_precipitacao)]"
   ]
  },
  {
   "cell_type": "code",
   "execution_count": 48,
   "metadata": {
    "collapsed": false
   },
   "outputs": [
   ],
   "source": [
    "#Criando dataframe de casos de dengue de Surubim no ano de maior Precipitacao (todos os meses)\n",
    "surubim_casos_dengue = df_dengue.loc[(df_dengue['MUNICIPIO'] == 'SURUBIM') & (df_dengue['ANO'] == ano_surubim_maior_precipitacao)]"
   ]
  },
  {
   "cell_type": "code",
   "execution_count": 49,
   "metadata": {
    "collapsed": false
   },
   "outputs": [
   ],
   "source": [
    "#Criando dataframe de relacao casos de dengue x precipitacao de Surubim no ano de maior Precipitacao (todos os meses)\n",
    "relacao_dengue_precipitacao_surubim = surubim_casos_dengue.copy()\n",
    "relacao_dengue_precipitacao_surubim['PRECIPITACAO'] = surubim_maior_precipitacao_2010_2012['PRECIPITACAO'].values"
   ]
  },
  {
   "cell_type": "code",
   "execution_count": 50,
   "metadata": {
    "collapsed": false
   },
   "outputs": [
    {
     "data": {
      "text/plain": [
       "<matplotlib.axes._subplots.AxesSubplot object at 0x7faf0d130450>"
      ]
     },
     "execution_count": 50,
     "metadata": {
     },
     "output_type": "execute_result"
    },
    {
     "data": {
      "image/png": "[encoded data removed]"
     },
     "execution_count": 50,
     "metadata": {
     },
     "output_type": "execute_result"
    }
   ],
   "source": [
    "#Grafico de dispersao precipitacao x casos de dengue por mes do ano de maior Precipitacao do municipio Surubim\n",
    "relacao_dengue_precipitacao_surubim.plot(x='PRECIPITACAO',y='CASOS',kind='scatter', title='Precipitacao x Casos de Dengue de Surubim ('+str(ano_surubim_maior_precipitacao)+')',color='r')"
   ]
  },
  {
   "cell_type": "code",
   "execution_count": 51,
   "metadata": {
    "collapsed": false
   },
   "outputs": [
    {
     "data": {
      "text/plain": [
       "0.6100624727791992"
      ]
     },
     "execution_count": 51,
     "metadata": {
     },
     "output_type": "execute_result"
    }
   ],
   "source": [
    "#Aplicando o metodo de Coeficiente de Correlacao Linear\n",
    "list13 = relacao_dengue_precipitacao_surubim['PRECIPITACAO'].values.tolist()\n",
    "list14 = relacao_dengue_precipitacao_surubim['CASOS'].values.tolist()\n",
    "correlacao(list13, list14)"
   ]
  },
  {
   "cell_type": "code",
   "execution_count": 52,
   "metadata": {
    "collapsed": false
   },
   "outputs": [
    {
     "data": {
      "text/plain": [
       "0.55931585405648088"
      ]
     },
     "execution_count": 52,
     "metadata": {
     },
     "output_type": "execute_result"
    }
   ],
   "source": [
    "#Aplicando correlacao Spearman - nativo do Pandas\n",
    "relacao_dengue_precipitacao_surubim['PRECIPITACAO'].corr(relacao_dengue_precipitacao_surubim['CASOS'],'spearman')"
   ]
  },
  {
   "cell_type": "code",
   "execution_count": 62,
   "metadata": {
    "collapsed": false
   },
   "outputs": [
   ],
   "source": [
    "\"\"\"\n",
    "ARCOVERDE CASOS DE DENGUE E PRECIPITACAO (ANO COM MAIOR PRECIPITACAO)\n",
    "O ano com maior precipitacao entre 2010 a 2012 em Arcoverde e 2010, porem o mesmo nao possui os dados do mes interio de abril.\n",
    "Por isso, para o caso de Arcoverde o ano escolhido foi o com menor precipitacao em vez o de maior.\n",
    "\"\"\"\n",
    "\n",
    "#Descobrindo o ano com menor precipitacao em Arcoverde entre 2010 e 2012\n",
    "df_arcoverde_2010_2012 = precipitacao_ano_2010_2012.loc[(precipitacao_ano_2010_2012['MUNICIPIO'] == 'ARCOVERDE')]\n",
    "ano_arcoverde_menor_precipitacao = df_arcoverde_2010_2012[df_arcoverde_2010_2012['PRECIPITACAO']==df_arcoverde_2010_2012['PRECIPITACAO'].min()]['ANO'].values[0]"
   ]
  },
  {
   "cell_type": "code",
   "execution_count": 63,
   "metadata": {
    "collapsed": false
   },
   "outputs": [
   ],
   "source": [
    "#Criando dataframe de precipitacao de Arcoverde no ano de menor Precipitacao (todos os meses)\n",
    "arcoverde_menor_precipitacao_2010_2012 = precipitacao_mes_ano_2010_2012.loc[(precipitacao_mes_ano_2010_2012['MUNICIPIO'] == 'ARCOVERDE') & (precipitacao_mes_ano_2010_2012['ANO'] == ano_arcoverde_menor_precipitacao)]"
   ]
  },
  {
   "cell_type": "code",
   "execution_count": 64,
   "metadata": {
    "collapsed": false
   },
   "outputs": [
   ],
   "source": [
    "#Criando dataframe de casos de dengue de Arcoverde no ano de menor Precipitacao (todos os meses)\n",
    "arcoverde_casos_dengue = df_dengue.loc[(df_dengue['MUNICIPIO'] == 'ARCOVERDE') & (df_dengue['ANO'] == ano_arcoverde_menor_precipitacao)]"
   ]
  },
  {
   "cell_type": "code",
   "execution_count": 65,
   "metadata": {
    "collapsed": false
   },
   "outputs": [
   ],
   "source": [
    "#Criando dataframe de relacao casos de dengue x precipitacao de Arcoverde no ano de menor Precipitacao (todos os meses)\n",
    "relacao_dengue_precipitacao_arcoverde = arcoverde_casos_dengue.copy()\n",
    "relacao_dengue_precipitacao_arcoverde['PRECIPITACAO'] = arcoverde_menor_precipitacao_2010_2012['PRECIPITACAO'].values"
   ]
  },
  {
   "cell_type": "code",
   "execution_count": 66,
   "metadata": {
    "collapsed": false
   },
   "outputs": [
    {
     "data": {
      "text/plain": [
       "<matplotlib.axes._subplots.AxesSubplot object at 0x7faf0cf9da90>"
      ]
     },
     "execution_count": 66,
     "metadata": {
     },
     "output_type": "execute_result"
    },
    {
     "data": {
      "image/png": "[encoded data removed]"
     },
     "execution_count": 66,
     "metadata": {
     },
     "output_type": "execute_result"
    }
   ],
   "source": [
    "#Grafico de dispersao precipitacao x casos de dengue por mes do ano de menor Precipitacao do municipio Arcoverde\n",
    "relacao_dengue_precipitacao_arcoverde.plot(x='PRECIPITACAO',y='CASOS',kind='scatter', title='Precipitacao x Casos de Dengue de Arcoverde ('+str(ano_arcoverde_menor_precipitacao)+')',color='r')"
   ]
  },
  {
   "cell_type": "code",
   "execution_count": 67,
   "metadata": {
    "collapsed": false
   },
   "outputs": [
    {
     "data": {
      "text/plain": [
       "-0.11450886067562141"
      ]
     },
     "execution_count": 67,
     "metadata": {
     },
     "output_type": "execute_result"
    }
   ],
   "source": [
    "#Aplicando o metodo de Coeficiente de Correlacao Linear\n",
    "list5 = relacao_dengue_precipitacao_arcoverde['PRECIPITACAO'].values.tolist()\n",
    "list6 = relacao_dengue_precipitacao_arcoverde['CASOS'].values.tolist()\n",
    "correlacao(list5, list6)"
   ]
  },
  {
   "cell_type": "code",
   "execution_count": 68,
   "metadata": {
    "collapsed": false
   },
   "outputs": [
    {
     "data": {
      "text/plain": [
       "0.1063936823132013"
      ]
     },
     "execution_count": 68,
     "metadata": {
     },
     "output_type": "execute_result"
    }
   ],
   "source": [
    "#Aplicando correlacao Spearman - nativo do Pandas\n",
    "relacao_dengue_precipitacao_arcoverde['PRECIPITACAO'].corr(relacao_dengue_precipitacao_arcoverde['CASOS'],'spearman')"
   ]
  },
  {
   "cell_type": "code",
   "execution_count": 0,
   "metadata": {
    "collapsed": false
   },
   "outputs": [
   ],
   "source": [
   ]
  }
 ],
 "metadata": {
  "kernelspec": {
   "display_name": "SageMath (stable)",
   "language": "sagemath",
   "name": "sagemath"
  },
  "language_info": {
   "codemirror_mode": {
    "name": "ipython",
    "version": 2
   },
   "file_extension": ".py",
   "mimetype": "text/x-python",
   "name": "python",
   "nbconvert_exporter": "python",
   "pygments_lexer": "ipython2",
   "version": "2.7.15"
  }
 },
 "nbformat": 4,
 "nbformat_minor": 0
}